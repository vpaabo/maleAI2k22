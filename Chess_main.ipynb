{
 "cells": [
  {
   "cell_type": "code",
   "execution_count": 1,
   "id": "7d8b6449",
   "metadata": {
    "scrolled": true
   },
   "outputs": [],
   "source": [
    "#!pip install chessboard"
   ]
  },
  {
   "cell_type": "code",
   "execution_count": 2,
   "id": "9615662d",
   "metadata": {},
   "outputs": [],
   "source": [
    "import chess\n",
    "import random\n",
    "import math\n",
    "from copy import deepcopy"
   ]
  },
  {
   "cell_type": "code",
   "execution_count": 3,
   "id": "cf9b56aa",
   "metadata": {},
   "outputs": [],
   "source": [
    "#print(board.__doc__)\n",
    "#dir(board)"
   ]
  },
  {
   "cell_type": "code",
   "execution_count": 4,
   "id": "10f1bfe4",
   "metadata": {},
   "outputs": [],
   "source": [
    "def make_move(board, move):\n",
    "    board.push_san(move)"
   ]
  },
  {
   "cell_type": "code",
   "execution_count": 5,
   "id": "2de8808b",
   "metadata": {},
   "outputs": [],
   "source": [
    "def get_ai_move(board, player):\n",
    "    '''Get a move for the black player.\n",
    "    \n",
    "    board - chess.Board object\n",
    "    player - chess.BLACK or chess.WHITE, according to who called the function\n",
    "    Available move generators:\n",
    "        random_move\n",
    "        minmax\n",
    "    '''\n",
    "    #return minmax(board, player)\n",
    "    return random_move(board)\n",
    "                       \n",
    "def random_move(board):\n",
    "    '''Return a random move from available legal moves.\n",
    "    '''\n",
    "    return random.choice([move.__str__() for move in board.legal_moves])"
   ]
  },
  {
   "cell_type": "code",
   "execution_count": 6,
   "id": "ab1aebc4",
   "metadata": {},
   "outputs": [],
   "source": [
    "def minmax(board, current_player):\n",
    "    '''Find the best move on the given board by the minmax algorithm'''\n",
    "    depth = 5\n",
    "    return minmaxREK(board, depth, current_player, None, True)\n",
    "\n",
    "def minmaxREK(board, depth, current_player, current_move, maximizing):\n",
    "    '''Helper function to minmax\n",
    "    \n",
    "    board - chess.Board object\n",
    "    depth - recursion depth\n",
    "    current_player - chess.BLACK or chess.WHITE, according to who called the function\n",
    "    current_move - str (in UCI format), the previously best move to fall back to when recursion depth is reached\n",
    "    maximizing - True or False, whether the current call tries to maximze or min\n",
    "    '''\n",
    "    if board.is_game_over():\n",
    "        w = board.outcome().winner\n",
    "        if w == current_player:\n",
    "            return current_turn, math.inf\n",
    "        else:\n",
    "            return current_turn, -math.inf\n",
    "    elif depth <= 0:\n",
    "        return current_turn, evaluate_board(board, current_player)\n",
    "    \n",
    "    if maximizing:\n",
    "        return maximizer(board, depth, current_player, maximizing)\n",
    "    else:\n",
    "        return minimizer(board, depth, current_player, maximizing)"
   ]
  },
  {
   "cell_type": "code",
   "execution_count": 7,
   "id": "97349467",
   "metadata": {},
   "outputs": [],
   "source": [
    "def maximizer(board, depth, current_player, maximizing):\n",
    "    all_moves = board.legal_moves\n",
    "    \n",
    "    if len(all_moves) == 0:\n",
    "        return None, -math.inf\n",
    "    \n",
    "    best_move = random.choice(all_moves)\n",
    "    best_rate = -math.inf\n",
    "    \n",
    "    for move in all_moves:\n",
    "        b = deepcopy(board)\n",
    "        make_move(b, move)\n",
    "        \n",
    "        if depth > 0:\n",
    "            _, rate = minimaxREK(b, depth - 1, current_player, not maximizing, move)\n",
    "        else:\n",
    "            rate = evaluate_board(b, current_player)\n",
    "            \n",
    "        if rate > best_rate:\n",
    "            best_rate = rate\n",
    "            best_move = move\n",
    "            \n",
    "    return best_move, best_rate\n",
    "\n",
    "def minimizer(board, depth, current_player, maximizing):\n",
    "    all_moves = board.legal_moves\n",
    "    \n",
    "    if len(all_moves) == 0:\n",
    "        return None, math.inf\n",
    "    \n",
    "    best_move = random.choice(all_moves)\n",
    "    best_rate = math.inf\n",
    "    \n",
    "    for move in all_moves:\n",
    "        b = deepcopy(board)\n",
    "        make_move(b, move)\n",
    "        \n",
    "        if depth > 0:\n",
    "            _, rate = minimaxREK(b, depth - 1, current_player, not maximizing, move)\n",
    "        else:\n",
    "            rate = evaluate_board(b, current_player)\n",
    "            \n",
    "        if rate < best_rate:\n",
    "            best_rate = rate\n",
    "            best_move = move\n",
    "            \n",
    "    return best_move, best_rate"
   ]
  },
  {
   "cell_type": "code",
   "execution_count": 8,
   "id": "dcc35217",
   "metadata": {},
   "outputs": [],
   "source": [
    "def evaluate_board(board, current_player):\n",
    "    ..."
   ]
  },
  {
   "cell_type": "code",
   "execution_count": 9,
   "id": "4435d1db",
   "metadata": {},
   "outputs": [],
   "source": [
    "def to_san(board, move):\n",
    "    '''Convert UCI move format to SAN format (ex. c3e4 -> Ne4)'''\n",
    "    return board.san(board.parse_uci(move))\n",
    "def to_uci(board, move):\n",
    "    '''Convert SAN move format to UCI format (ex. Ne4 -> c3e4)'''\n",
    "    return board.uci(board.parse_san(move))"
   ]
  },
  {
   "cell_type": "markdown",
   "id": "58a7e617",
   "metadata": {},
   "source": [
    "# Testing"
   ]
  },
  {
   "cell_type": "code",
   "execution_count": 10,
   "id": "c89ba8f1",
   "metadata": {},
   "outputs": [
    {
     "name": "stdout",
     "output_type": "stream",
     "text": [
      "Nf3\n",
      "g1f3\n"
     ]
    }
   ],
   "source": [
    "board = chess.Board()\n",
    "print(to_san(board, 'g1f3'))\n",
    "print(to_uci(board, 'Nf3'))"
   ]
  },
  {
   "cell_type": "code",
   "execution_count": null,
   "id": "70dbce47",
   "metadata": {
    "scrolled": false
   },
   "outputs": [],
   "source": [
    "board = chess.Board()\n",
    "\n",
    "moves = ['e2e4', 'e7e6', 'b1c3']\n",
    "for move in moves:\n",
    "    make_move(board, move)\n",
    "    \n",
    "display(board)\n",
    "x = 0"
   ]
  },
  {
   "cell_type": "code",
   "execution_count": null,
   "id": "f12e7c84",
   "metadata": {},
   "outputs": [],
   "source": [
    "#[move.__str__() for move in board.legal_moves]"
   ]
  },
  {
   "cell_type": "code",
   "execution_count": null,
   "id": "d0ec5d59",
   "metadata": {
    "scrolled": true
   },
   "outputs": [],
   "source": [
    "board = chess.Board()\n",
    "display(board)\n",
    "\n",
    "while True:\n",
    "    if board.is_game_over(): break\n",
    "    \n",
    "    legal_moves = [to_san(board, move.__str__()) for move in board.legal_moves]\n",
    "    print('Legal moves')\n",
    "    print('\\t', legal_moves)\n",
    "    \n",
    "    move = '_'#input('make a move: ')\n",
    "    if move == '':\n",
    "       break\n",
    "    \n",
    "    make_move(board, get_ai_move(board, chess.WHITE)) # move\n",
    "    \n",
    "    opponent_move = get_ai_move(board, chess.BLACK)\n",
    "    \n",
    "    make_move(board, opponent_move)\n",
    "    print('Opponent played:', opponent_move)\n",
    "    \n",
    "    \n",
    "    display(board)\n",
    "    print('\\n\\n')\n",
    "    \n",
    "    "
   ]
  },
  {
   "cell_type": "code",
   "execution_count": null,
   "id": "132c0edd",
   "metadata": {},
   "outputs": [],
   "source": [
    "board.outcome()"
   ]
  },
  {
   "cell_type": "code",
   "execution_count": null,
   "id": "b1fa6f5a",
   "metadata": {
    "scrolled": true
   },
   "outputs": [],
   "source": [
    "board.outcome().winner == chess.WHITE"
   ]
  }
 ],
 "metadata": {
  "kernelspec": {
   "display_name": "Python 3 (ipykernel)",
   "language": "python",
   "name": "python3"
  },
  "language_info": {
   "codemirror_mode": {
    "name": "ipython",
    "version": 3
   },
   "file_extension": ".py",
   "mimetype": "text/x-python",
   "name": "python",
   "nbconvert_exporter": "python",
   "pygments_lexer": "ipython3",
   "version": "3.9.13"
  }
 },
 "nbformat": 4,
 "nbformat_minor": 5
}
